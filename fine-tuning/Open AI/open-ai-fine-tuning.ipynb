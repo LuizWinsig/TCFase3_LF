{
 "cells": [
  {
   "cell_type": "markdown",
   "metadata": {},
   "source": [
    "# Fine Tuning utilizando Open AI\n",
    "\n",
    "*Este notebook irá exercitar os passos de fine tuning utilizando como base um modelo da Open AI, além de utilizar as ferramentas disponibilizadas pela Open AI para treinar o modelo e testá-lo*\n",
    "\n",
    "### Passos\n",
    "1. Pré-processamento da entrada\n",
    "2. Criação do modelo\n",
    "3. Teste do modelo após o fine tuning x modelo original\n",
    "4. Conclusões\n",
    "\n",
    "\n"
   ]
  },
  {
   "cell_type": "markdown",
   "metadata": {},
   "source": [
    "### Imports"
   ]
  },
  {
   "cell_type": "code",
   "execution_count": 1,
   "metadata": {},
   "outputs": [],
   "source": [
    "import json\n",
    "import re\n",
    "import html\n",
    "import os\n",
    "from openai import OpenAI\n",
    "from dotenv import load_dotenv"
   ]
  },
  {
   "cell_type": "markdown",
   "metadata": {},
   "source": [
    "### 1. Pré-processamento da entrada\n",
    "\n",
    "- O arquivo de entrada está no formato disponibilizado para o tech challenge. \n",
    "- Para facilitar o processamento, o arquivo original foi dividido em arquivos menores com 20 mil linhas cada.\n",
    "- O arquivo utilizado abaixo é o primeiro desses arquivos menores. \n",
    "- É gerado um novo arquivo, no formato esperado pelo modelo `gpt-4o-mini-2024-07-18`\n"
   ]
  },
  {
   "cell_type": "code",
   "execution_count": null,
   "metadata": {},
   "outputs": [],
   "source": [
    "input_file_full = r'./data/trn_limpo_1_de_70.json'\n",
    "first_line = 0\n",
    "last_line = 20000\n",
    "\n",
    "# Path to the output file for gpt formatted data\n",
    "gpt_output_file = r'./data/gpt_formatted_data_1.json'\n",
    "\n",
    "# Function to parse JSON manually\n",
    "def parse_json_line(line):\n",
    "    title_start = line.find('\"title\": ') + len('\"title\": ') + 1\n",
    "    title_end = line.find('\",', title_start)\n",
    "    title = line[title_start:title_end]\n",
    "\n",
    "    content_start = line.find('\"content\": ') + len('\"content\": ') + 1\n",
    "    content_end = line.find('\",', content_start)\n",
    "    content = line[content_start:content_end]\n",
    "\n",
    "    if not content:\n",
    "        return None\n",
    "    \n",
    "    # Cleanup content by removing special characters or escaped characters\n",
    "    content = html.unescape(content)  # Convert HTML entities to their equivalent characters\n",
    "    content = re.sub(r'\\\\+', '', content)    # Remove any number of backslashes\n",
    "    content = content.replace('\\\"', \"'\")\n",
    "    return {'title': title, 'content': content}\n",
    "\n",
    "# Function to convert the parsed data to GPT format\n",
    "def convert_to_gpt_format(data):\n",
    "    gpt_format = []\n",
    "    gpt_format.append({\n",
    "        \"role\": \"system\",\n",
    "        \"content\": \"Act as sales representative\"\n",
    "    })\n",
    "    gpt_format.append({\n",
    "        \"role\": \"user\",\n",
    "        \"content\": data['title']\n",
    "    })\n",
    "    gpt_format.append({\n",
    "        \"role\": \"assistant\",\n",
    "        \"content\": data['content']\n",
    "    })\n",
    "    return {\"messages\": gpt_format}\n",
    "\n",
    "\n",
    "with open(input_file_full, 'r') as infile, open(gpt_output_file, 'w') as outfile:\n",
    "    range_lines = range(first_line, last_line)\n",
    "    for i, line in enumerate(infile):\n",
    "        if i in range_lines:\n",
    "            filtered_line = parse_json_line(line)\n",
    "            if filtered_line:\n",
    "                converted_line = convert_to_gpt_format(filtered_line)\n",
    "                json.dump(converted_line, outfile)\n",
    "                outfile.write('\\n')\n",
    "        if i >= last_line:\n",
    "            break\n",
    "\n",
    "print(f\"GPT formatted data has been written to {gpt_output_file}\")"
   ]
  },
  {
   "cell_type": "markdown",
   "metadata": {},
   "source": [
    "### 2. Criação do modelo\n",
    "\n",
    "- O arquivo no convertido para o formato do `gpt-4o-mini-2024-07-18` é utilizado para a criação do job de fine tuning na plataforma da Open AI\n",
    "- Os hiper parâmetros utilizados são:\n",
    "    - epochs: 1\n",
    "    - batch size: 8\n",
    "    - learning rate: 0.6\n",
    "- Na primeira execução, é utilizado o primeiro arquivo contendo 20 mil linhas para treinar o modelo.\n",
    "- O modelo fine-tuned é então utilizado como entrada para a próxima rodada de treinamento, com o segundo arquivo, e assim por diante."
   ]
  },
  {
   "cell_type": "code",
   "execution_count": null,
   "metadata": {},
   "outputs": [],
   "source": [
    "input_file = \"./data/gpt_formatted_data_1.json\"\n",
    "model_id = \"gpt-4o-mini-2024-07-18\"\n",
    "#model_id = \"ft:gpt-4o-mini-2024-07-18:personal:tech-challenge-3:A8sfiqpt\"\n",
    "epochs = 1\n",
    "learning_rate_multiplier = 0.6\n",
    "batch_size = 8\n",
    "\n",
    "# Load environment variables from .env file\n",
    "load_dotenv()\n",
    "\n",
    "# Get the API key from environment variables\n",
    "api_key = os.getenv(\"OPENAI_API_KEY\")\n",
    "\n",
    "# Check if the API key is available\n",
    "if not api_key:\n",
    "    raise ValueError(\"API key for OpenAI is not set. Please set the OPENAI_API_KEY environment variable.\")\n",
    "\n",
    "# Initialize the OpenAI client with the API key\n",
    "client = OpenAI(api_key=api_key)\n",
    "\n",
    "train_file = client.files.create(\n",
    "    file=open(input_file, 'rb'),\n",
    "    purpose=\"fine-tune\"\n",
    ")\n",
    "\n",
    "finetuning_job = client.fine_tuning.jobs.create(\n",
    "    model=model_id,\n",
    "    hyperparameters={\n",
    "        \"n_epochs\":epochs,\n",
    "        \"learning_rate_multiplier\":learning_rate_multiplier,\n",
    "        \"batch_size\":batch_size\n",
    "    },\n",
    "    training_file=train_file.id,\n",
    "    suffix=\"tech-challenge-3\"\n",
    ")\n",
    "\n",
    "# Print the fine-tuning job ID\n",
    "print(f\"Fine-tuning job created with ID: {finetuning_job}\")\n",
    "print(f\"model_id: {finetuning_job.fine_tuned_model}\")"
   ]
  },
  {
   "cell_type": "markdown",
   "metadata": {},
   "source": [
    "### 3. Teste do modelo após o fine tuning x modelo original\n",
    "\n",
    "- O modelo original e o model fine-tuned são testados com o mesmo prompt, afim de se comparar as respostas"
   ]
  },
  {
   "cell_type": "code",
   "execution_count": 4,
   "metadata": {},
   "outputs": [],
   "source": [
    "original_model_id = \"gpt-4o-mini-2024-07-18\"\n",
    "trained_model_id = \"ft:gpt-4o-mini-2024-07-18:personal:tech-challenge-3:A8xHyIA4\"\n",
    "system_prompt = \"Act as sales representative\"\n",
    "\n",
    "input_prompt = \"What can you tell me about Girls Tutu Ballet?\"\n",
    "\n",
    "messages=[\n",
    "        {\"role\": \"system\", \"content\": system_prompt},\n",
    "        {\"role\": \"user\", \"content\": input_prompt}    \n",
    "    ]\n",
    "\n",
    "# Load environment variables from .env file\n",
    "load_dotenv()\n",
    "\n",
    "# Get the API key from environment variables\n",
    "api_key = os.getenv(\"OPENAI_API_KEY\")\n",
    "\n",
    "# Check if the API key is available\n",
    "if not api_key:\n",
    "    raise ValueError(\"API key for OpenAI is not set. Please set the OPENAI_API_KEY environment variable.\")\n",
    "\n",
    "# Initialize the OpenAI client with the API key\n",
    "client = OpenAI(api_key=api_key)\n"
   ]
  },
  {
   "cell_type": "markdown",
   "metadata": {},
   "source": [
    "### Modelo original"
   ]
  },
  {
   "cell_type": "code",
   "execution_count": null,
   "metadata": {},
   "outputs": [],
   "source": [
    "completion = client.chat.completions.create(\n",
    "    model=original_model_id,\n",
    "    messages=messages)\n",
    "\n",
    "completion.choices[0].message.content"
   ]
  },
  {
   "cell_type": "markdown",
   "metadata": {},
   "source": [
    "The Girls Tutu Ballet in Neon Pink is a vibrant and trendy choice for young dancers who want to stand out in their classes or performances. Here are some specific features you might consider:\n",
    "\n",
    "1. **Color and Aesthetic**: Neon pink is a bold, eye-catching color that adds a modern twist to the traditional ballet tutu. It’s perfect for expressing personality while still being elegant and dance-appropriate.\n",
    "\n",
    "2. **Style**: Typically, a neon pink tutu may include multiple layers of tulle, creating that classic, fluffy ballet look. Some designs might feature additional embellishments like sequins, rhinestones, or decorative trims for extra sparkle.\n",
    "\n",
    "3. **Comfort and Fit**: These tutus are often designed with comfort in mind, featuring stretchy bodices or elastic waistbands that allow for flexibility as the dancer moves. Materials are usually chosen to be soft against the skin, preventing any discomfort during practice or performances.\n",
    "\n",
    "4. **Versatility**: A neon pink tutu can be versatile enough for ballet classes, recitals, costume parties, or even casual dress-up at home. It can be paired with a variety of leotards, tights, and ballet shoes, allowing for personalization.\n",
    "\n",
    "5. **Care and Maintenance**: It's important to follow care instructions to maintain the bright color and shape of the tutu. Hand washing or gentle machine washing on cold, and avoiding bleach, is usually recommended.\n",
    "\n",
    "6. **Matching Accessories**: Many outfits come as sets or can be easily matched with accessories like headbands, ballet shoes, or leg warmers in similar neon shades, creating a complete look.\n",
    "\n",
    "7. **Confidence Booster**: The fun and lively color can boost a child's confidence, making them more excited about participating in dance. The tutu's style often encourages imaginative play as well, both in and out of dance class.\n",
    "\n",
    "If you're interested in purchasing the Girls Tutu Ballet Neon Pink or have any specific questions regarding brands, sizes, or availability, feel free to ask!"
   ]
  },
  {
   "cell_type": "markdown",
   "metadata": {},
   "source": [
    "### Modelo fine-tuned"
   ]
  },
  {
   "cell_type": "code",
   "execution_count": null,
   "metadata": {},
   "outputs": [],
   "source": [
    "completion = client.chat.completions.create(\n",
    "    model=trained_model_id,\n",
    "    messages=messages)\n",
    "\n",
    "completion.choices[0].message.content"
   ]
  },
  {
   "cell_type": "markdown",
   "metadata": {},
   "source": [
    "The ballet genre is characterized by its graceful and beautiful dance movements. Girls Tutu Ballet is often associated with the tutu, a short skirt made of tulle or netting that is worn by female ballet dancers. The tutu ballet style is often performed in classical ballet productions, such as The Nutcracker, Swan Lake, and Cinderella, and involves techniques such as turning out the legs and pointed toes. Ballet also emphasizes a strong and graceful upper body, with dancers often using their arms and hands to create shapes and expressions in their movements.  All these specifics make ballerinas look adorable, graceful and ethereal. Girls Tutu Ballet clothing and accessories include special ballet shoes, leotards, tights, and tutus.  Girls Tutu Ballet clothing and accessories also include special ballet shoes, leotards, tights, and tutus.  Girls Tutu Ballet clothing and accessories may include a wide variety of colors and styles. Girls Tutu Ballet costumes are often worn for performances, dance recitals, and other performances. A tutu is a short skirt often worn for ballet performances, made of stiff netting or other dancing fabrics. Sometimes a leotard, tights, or other clothing may also be worn with a tutu. Girls Tutu Ballet accessories may include hair elastics, headbands, flowers, or accessories such as hairnets or other dance attire. Girls Tutu Ballet participants may be of any age but are generally found at the basic ratio. Girls Tutu Ballet is different from other forms of Tutu Ballet (for example, modern and contemporary) because it is not set to music. Girls Tutu Ballet is different from other forms of taking special dance lessons (for example, flamenco.) It is considered more graceful or elegant than other forms of this.Recommendation with extreme enthusiasm.This delightful ballet is dropped right from the book case and into dance in a lovely way. A ballet class is a wonderful introduction for boys and girls. It is engaging from the first glimpse of all the sweet, carefree children. We find out a little about each one, and how being part of a ballet company means a lot to the child. It sends a wonderful message - a joint sparkle lighting up for everyone, creating a lovely performance in costume on stage. Graceful, awesome and beckoning invites in this happy ballet. Don’t you dream you feel like a ballerina after reading this? Beautifully bound, this ballet is luxuriously printed in glitter on thick, glossy paper. It encourages boys and girls to strive to learn the moves in its bonus offers - for example belly dance, Folk dance, Highland, tap (difficult!). Just right for children ages 4-9 and an exciting present for any child (ages 10 and over) to find under the Christmas tree. What we have in Ballet Tutus of the Girls, is a friendly race to see how many moves can be held and still keep from crashing into another energetic dancer! We jump together, the dancer reading about us and the dancer reading this piece like the one who surveys and enjoys, discovering exciting pictures alike again, at each turn of the page. This will help us to develop the songwriting talent of our dancers and give them inspiration. Another fun feature that is stylish in its design is the flaps or page drawings that can butt them a litt of the voice of those of oppositement gentle dancers, making them as cute as a mouse in shoes off of tutus! Tisk!Tisk! I believe Girls can read too or is our mouse just shy! The bright turquoise and lavender motion of the highlighted, off blues reflecting off reverse decorated bows, at a slow tilt and leaping in knee levels, creates equals boredom in the middle-aged head! I must admit, I wanted to add a bit of color on another level at night and in square fashion themes or revolve our dancing body horizontally, not to mention using purple, magenta pinks and shimmer skirts. I mean, what could be prettier to a girl than a sparkling  other-paged, ballerina 99. Yes! That will conclude our class. I hope this explanation of Ballet Tutus of the Girls has filled your head full of fun twisty twirlers! Happy Hunger Games. At either end we are off to delightful ballet. I received a copy of this ballet from the Ballet master and Ballet School in this book, the design by our Russian talent, pouffe it’s slick, Sylvan! This Ballet goes well and must become your regular poses! Once you finish Ballet Tutus of the Girls!  More Fun for Everyone,NAu Ballet School and After class!  With honorary mentions for star studded brilliant bronze bend spells, you  manage not too see,  on our big ballerina Gazoo Ballet Run-way.  Can you swing and walk at the same time our dancers read the paper? Why they have open air and  en pointe winter trips, well, here we  find them whisking through forests, unicycle skating  , horse buggying and just grazing pork! The knees high and arms above should feel breezy. Together we will shine! That’s all folks!Subscribe to this subscription to convert this Dance Budget class into a worldwide show. Girls tutus ballet after class! Coming Soon! My Blog's One Popular Post Catalina Design2 years ago My Blog's One Popular Post The Lovely Quiltery Studio4 years agoMy Blog's One Popular Post Stitches in  Chocolate Dreams Blog5 years agoOlder Post Home"
   ]
  },
  {
   "cell_type": "markdown",
   "metadata": {},
   "source": [
    "### 4. Conclusões"
   ]
  },
  {
   "cell_type": "markdown",
   "metadata": {},
   "source": [
    "- Utilizar a plataforma disponibilizada pela Open AI por um lado apresenta a facilidade de não se preocupar em ter o poder computacional necessário para fazer o fine tuning, porém por outro lado o custo financeiro acabou entrando na equação ao se definir os melhores hiper parâmetros.\n",
    "- Por se tratarem de modelos já bem desenvolvidos, os modelos da Open AI originais já respondem muito bem (ou até melhor) ao prompt, uma vez que os dados utilizados para treino são comentários \"não tratados ou verificados\" de pessoas em relação a produtos.\n",
    "- Também devido ao estágio de maturidade dos modelos, executar 1 epoch foi o suficiente para obter um resultado razoável, dado que o custo aumenta muito ao aumentar o número de epochs\n",
    "- Optamos por utilizar o modelo `gpt-4o-mini-2024-07-18` como base por estar em um período de custo reduzido (até 23/09/2024). Do contrário poderíamos tentar utilizar outros modelos como `babbage` ou `davinci`\n",
    "- Executar 1 epoch com batch size alto (16 ou 32) ou com learning rates pequenos (0.1 ou 0.2) fez com que o resultado não fosse bom. Chegamos a um nível aceitável de resultado x custo utilizando batch size 8 e learning rate 0.6"
   ]
  }
 ],
 "metadata": {
  "kernelspec": {
   "display_name": "Python 3",
   "language": "python",
   "name": "python3"
  },
  "language_info": {
   "codemirror_mode": {
    "name": "ipython",
    "version": 3
   },
   "file_extension": ".py",
   "mimetype": "text/x-python",
   "name": "python",
   "nbconvert_exporter": "python",
   "pygments_lexer": "ipython3",
   "version": "3.8.10"
  }
 },
 "nbformat": 4,
 "nbformat_minor": 2
}
